{
 "cells": [
  {
   "cell_type": "code",
   "execution_count": 1,
   "metadata": {},
   "outputs": [
    {
     "data": {
      "text/plain": [
       "'\\n1-13 : Diamonds\\n14-26 : Hearts\\n27-39 : Clubs\\n40-52 : Spades\\n'"
      ]
     },
     "execution_count": 1,
     "metadata": {},
     "output_type": "execute_result"
    }
   ],
   "source": [
    "#Cards\n",
    "'''\n",
    "1-13 : Diamonds\n",
    "14-26 : Hearts\n",
    "27-39 : Clubs\n",
    "40-52 : Spades\n",
    "'''"
   ]
  },
  {
   "cell_type": "code",
   "execution_count": 2,
   "metadata": {},
   "outputs": [],
   "source": [
    "class CardSuite():\n",
    "    def __init__(self, n):\n",
    "        if n < 1 or n > 52:\n",
    "            self.suite = None\n",
    "        else:\n",
    "            if n//13 == 0 or (n//13 == 1 and n%13 == 0):#Diamonds\n",
    "                self.suite = 'Diamonds'\n",
    "            elif n//13 == 1 or (n//13 == 2 and n%13 == 0):#Diamonds\n",
    "                self.suite = 'Hearts'\n",
    "            elif n//13 == 2 or (n//13 == 3 and n%13 == 0):#Diamonds\n",
    "                self.suite = 'Clubs'\n",
    "            else: \n",
    "                self.suite = 'Spades'\n",
    "            \n",
    "    def suite(self):\n",
    "        return self.suite\n",
    "        "
   ]
  },
  {
   "cell_type": "code",
   "execution_count": 3,
   "metadata": {},
   "outputs": [],
   "source": [
    "class CardNumber():\n",
    "    def __init__(self, n):\n",
    "        if n < 1 or n > 52:\n",
    "            self.card = None\n",
    "        else:\n",
    "            if n%13 != 0:\n",
    "                self.card = n%13\n",
    "            else:\n",
    "                self.card = 13\n",
    "                \n",
    "    def card(self):\n",
    "        return self.card\n",
    "\n",
    "        "
   ]
  },
  {
   "cell_type": "code",
   "execution_count": 4,
   "metadata": {},
   "outputs": [],
   "source": [
    "class CardType():\n",
    "    def __init__(self, n):\n",
    "        if n < 1 or n > 13:\n",
    "            self.type = None\n",
    "        else:\n",
    "            if n == 1:\n",
    "                self.type = 'Ace'\n",
    "            elif n == 2:\n",
    "                self.type = '2'\n",
    "            elif n == 3:\n",
    "                self.type = '3'\n",
    "            elif n == 4:\n",
    "                self.type = '4'\n",
    "            elif n == 5:\n",
    "                self.type = '5'\n",
    "            elif n == 6:\n",
    "                self.type = '6'\n",
    "            elif n == 7:\n",
    "                self.type = '7'\n",
    "            elif n == 8:\n",
    "                self.type = '8'\n",
    "            elif n == 9:\n",
    "                self.type = '9'\n",
    "            elif n == 10:\n",
    "                self.type = '10'\n",
    "            elif n == 11:\n",
    "                self.type = 'Jack'\n",
    "            elif n == 12:\n",
    "                self.type = 'Queen'\n",
    "            elif n == 13:\n",
    "                self.type = 'King'\n",
    "                \n",
    "    def cardtype(self):\n",
    "        return self.type\n",
    "                "
   ]
  },
  {
   "cell_type": "code",
   "execution_count": null,
   "metadata": {},
   "outputs": [],
   "source": []
  }
 ],
 "metadata": {
  "kernelspec": {
   "display_name": "Python 3",
   "language": "python",
   "name": "python3"
  },
  "language_info": {
   "codemirror_mode": {
    "name": "ipython",
    "version": 3
   },
   "file_extension": ".py",
   "mimetype": "text/x-python",
   "name": "python",
   "nbconvert_exporter": "python",
   "pygments_lexer": "ipython3",
   "version": "3.6.5"
  }
 },
 "nbformat": 4,
 "nbformat_minor": 2
}
