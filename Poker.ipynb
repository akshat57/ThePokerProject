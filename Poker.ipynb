{
 "cells": [
  {
   "cell_type": "code",
   "execution_count": 8,
   "metadata": {},
   "outputs": [
    {
     "data": {
      "text/plain": [
       "'\\nHere, classes for PokerPlayer and the PokerTable are defined.\\nPokerPlayer contains the cards for the poker player\\nPokterTable contains the cards for the poker table\\n'"
      ]
     },
     "execution_count": 8,
     "metadata": {},
     "output_type": "execute_result"
    }
   ],
   "source": [
    "'''\n",
    "    Here, classes for PokerPlayer and the PokerTable are defined.\n",
    "    PokerPlayer contains the cards for the poker player\n",
    "    PokterTable contains the cards for the poker table\n",
    "'''"
   ]
  },
  {
   "cell_type": "code",
   "execution_count": 9,
   "metadata": {},
   "outputs": [],
   "source": [
    "from Cards import *"
   ]
  },
  {
   "cell_type": "code",
   "execution_count": 2,
   "metadata": {},
   "outputs": [],
   "source": [
    "class PokerPlayer(CardSuite, CardNumber, CardType):\n",
    "    def __init__(self, n1, n2):\n",
    "        self.card1 = CardNumber(n1).card\n",
    "        self.type1 = CardType(self.card1).cardtype()\n",
    "        self.suite1 = CardSuite(n1).suite\n",
    "\n",
    "        \n",
    "        self.card2 = CardNumber(n2).card\n",
    "        self.type2 = CardType(self.card2).cardtype()\n",
    "        self.suite2 = CardSuite(n2).suite\n",
    "        \n",
    "    def show_types(self):\n",
    "        return [ (self.type1, self.suite1), (self.type2, self.suite2) ]\n",
    "    \n",
    "    def show_cards(self):\n",
    "        return [ (self.card1, self.suite1), (self.card2, self.suite2) ]\n",
    "    \n",
    "    def all_suites(self):\n",
    "        return [self.suite1, self.suite2]"
   ]
  },
  {
   "cell_type": "code",
   "execution_count": 3,
   "metadata": {},
   "outputs": [],
   "source": [
    "class PokerTable(CardSuite, CardNumber, CardType):\n",
    "    def __init__(self, n1, n2, n3, n4, n5):#in order of appearence\n",
    "        self.card1 = CardNumber(n1).card\n",
    "        self.type1 = CardType(self.card1).cardtype()\n",
    "        self.suite1 = CardSuite(n1).suite\n",
    "\n",
    "        self.card2 = CardNumber(n2).card\n",
    "        self.type2 = CardType(self.card2).cardtype()\n",
    "        self.suite2 = CardSuite(n2).suite\n",
    "        \n",
    "        self.card3 = CardNumber(n3).card\n",
    "        self.type3 = CardType(self.card3).cardtype()\n",
    "        self.suite3 = CardSuite(n3).suite\n",
    "        \n",
    "        self.card4 = CardNumber(n4).card\n",
    "        self.type4 = CardType(self.card4).cardtype()\n",
    "        self.suite4 = CardSuite(n4).suite\n",
    "        \n",
    "        self.card5 = CardNumber(n5).card\n",
    "        self.type5 = CardType(self.card5).cardtype()\n",
    "        self.suite5 = CardSuite(n5).suite\n",
    "        \n",
    "    def show_types(self):\n",
    "        return [(self.type1, self.suite1), (self.type2, self.suite2), (self.type3, self.suite3), (self.type4, self.suite4), (self.type5, self.suite5)]\n",
    "\n",
    "    def show_cards(self):\n",
    "        return [(self.card1, self.suite1), (self.card2, self.suite2), (self.card3, self.suite3), (self.card4, self.suite4), (self.card5, self.suite5)]\n",
    "    \n",
    "    def all_suites(self):\n",
    "        return [self.suite1, self.suite2, self.suite3, self.suite4, self.suite5]\n",
    "    \n",
    "    def all_cards(self):\n",
    "        return [self.card1, self.card2, self.card3, self.card4, self.card5]\n",
    "        \n",
    "    \n"
   ]
  },
  {
   "cell_type": "code",
   "execution_count": null,
   "metadata": {},
   "outputs": [],
   "source": []
  },
  {
   "cell_type": "code",
   "execution_count": null,
   "metadata": {},
   "outputs": [],
   "source": []
  }
 ],
 "metadata": {
  "kernelspec": {
   "display_name": "Python 3",
   "language": "python",
   "name": "python3"
  },
  "language_info": {
   "codemirror_mode": {
    "name": "ipython",
    "version": 3
   },
   "file_extension": ".py",
   "mimetype": "text/x-python",
   "name": "python",
   "nbconvert_exporter": "python",
   "pygments_lexer": "ipython3",
   "version": "3.6.5"
  }
 },
 "nbformat": 4,
 "nbformat_minor": 2
}
