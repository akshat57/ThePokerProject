{
 "cells": [
  {
   "cell_type": "code",
   "execution_count": 5,
   "metadata": {},
   "outputs": [
    {
     "data": {
      "text/plain": [
       "'\\n    Here we assign points to different poker hands. And also assign strength to the different hands\\n    Royal Flush = 10\\n    Straigh Flush = 9\\n    4 of a Kind = 8\\n    Full House = 7\\n    Flush = 6\\n    Straight = 5\\n    Three of a Kind = 4\\n    Two Pair = 3\\n    One Pair = 2\\n    High Card = 1\\n'"
      ]
     },
     "execution_count": 5,
     "metadata": {},
     "output_type": "execute_result"
    }
   ],
   "source": [
    "'''\n",
    "    Here we assign points to different poker hands. And also assign strength to the different hands\n",
    "    Royal Flush = 10\n",
    "    Straigh Flush = 9\n",
    "    4 of a Kind = 8\n",
    "    Full House = 7\n",
    "    Flush = 6\n",
    "    Straight = 5\n",
    "    Three of a Kind = 4\n",
    "    Two Pair = 3\n",
    "    One Pair = 2\n",
    "    High Card = 1\n",
    "'''"
   ]
  },
  {
   "cell_type": "code",
   "execution_count": 6,
   "metadata": {},
   "outputs": [],
   "source": [
    "from PokerHands import *\n",
    "import random"
   ]
  },
  {
   "cell_type": "code",
   "execution_count": 7,
   "metadata": {},
   "outputs": [],
   "source": [
    "class Check_Hand(NumberHands,SuiteAndSequenceHands):\n",
    "    def __init__(self, Player, Table):\n",
    "        self.number_hands = NumberHands(Player, Table)\n",
    "        self.sas_hands = SuiteAndSequenceHands(Player, Table)\n",
    "        #self.number_hands.Tell()\n",
    "        #self.sas_hands.Tell()\n",
    "        \n",
    "        if self.sas_hands.royal_flush == True:\n",
    "            self.points = 10\n",
    "            self.high = None\n",
    "            self.next_high = None\n",
    "        \n",
    "        elif self.sas_hands.straight_flush == True:\n",
    "            self.points = 9\n",
    "            self.high = self.sas_hands.straightflush_high\n",
    "            self.next_high = None\n",
    "            \n",
    "        elif self.number_hands.fourOfAKind == True:\n",
    "            self.points = 8\n",
    "            self.high = None\n",
    "            self.next_high = None\n",
    "            \n",
    "        elif self.number_hands.fullHouse == True:\n",
    "            self.points = 7\n",
    "            self.high = self.number_hands.high\n",
    "            self.next_high = self.number_hands.next_high\n",
    "            \n",
    "        elif self.sas_hands.flush == True:\n",
    "            self.points = 6\n",
    "            self.high =  self.sas_hands.flush_high\n",
    "            self.next_high = None\n",
    "\n",
    "        elif self.sas_hands.straight == True:\n",
    "            self.points = 5\n",
    "            self.high = self.sas_hands.straight_high\n",
    "            self.next_high = None\n",
    "            \n",
    "        elif self.number_hands.threeOfAKind == True:\n",
    "            self.points = 4\n",
    "            self.high = self.number_hands.high\n",
    "            self.next_high = self.number_hands.next_high\n",
    "            \n",
    "        elif self.number_hands.twopair == True:\n",
    "            self.points = 3\n",
    "            self.high = self.number_hands.high\n",
    "            self.next_high = self.number_hands.next_high\n",
    "            \n",
    "        elif self.number_hands.pair == True:\n",
    "            self.points = 2\n",
    "            self.high = self.number_hands.high\n",
    "            self.next_high = self.number_hands.next_high\n",
    "            \n",
    "        else:\n",
    "            self.points = 1\n",
    "            self.high = self.number_hands.highcard\n",
    "            self.next_high = self.number_hands.next_high\n",
    "            \n",
    "        \n",
    "        #elif self"
   ]
  },
  {
   "cell_type": "code",
   "execution_count": 8,
   "metadata": {},
   "outputs": [],
   "source": [
    "def PointsToHand(points):\n",
    "    if points == 10:\n",
    "        return 'Royal Flush'\n",
    "    elif points == 9:\n",
    "        return 'Straigh Flush'\n",
    "    elif points == 8:\n",
    "        return 'Four of a Kind'\n",
    "    elif points == 7:\n",
    "        return 'Full House'\n",
    "    elif points == 6:\n",
    "        return 'Flush'\n",
    "    elif points == 5:\n",
    "        return 'Straight'\n",
    "    elif points == 4:\n",
    "        return 'Three of A Kind'\n",
    "    elif points == 3:\n",
    "        return 'Two Pairs'\n",
    "    elif points == 2:\n",
    "        return 'One Pair'\n",
    "    else:\n",
    "        return 'High Card'"
   ]
  },
  {
   "cell_type": "code",
   "execution_count": null,
   "metadata": {},
   "outputs": [],
   "source": []
  }
 ],
 "metadata": {
  "kernelspec": {
   "display_name": "Python 3",
   "language": "python",
   "name": "python3"
  },
  "language_info": {
   "codemirror_mode": {
    "name": "ipython",
    "version": 3
   },
   "file_extension": ".py",
   "mimetype": "text/x-python",
   "name": "python",
   "nbconvert_exporter": "python",
   "pygments_lexer": "ipython3",
   "version": "3.6.5"
  }
 },
 "nbformat": 4,
 "nbformat_minor": 2
}
